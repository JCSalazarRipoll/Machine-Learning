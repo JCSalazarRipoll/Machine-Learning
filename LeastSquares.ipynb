{
 "cells": [
  {
   "cell_type": "code",
   "execution_count": 1,
   "id": "e08fcf76",
   "metadata": {},
   "outputs": [
    {
     "name": "stdout",
     "output_type": "stream",
     "text": [
      "Index(['Wood Deck SF', 'Fireplaces', 'Full Bath', '1st Flr SF', 'Garage Area',\n",
      "       'Gr Liv Area', 'Overall Qual', 'bias'],\n",
      "      dtype='object')\n",
      "Index(['bias', 'Wood Deck SF', 'Fireplaces', 'Full Bath', '1st Flr SF',\n",
      "       'Garage Area', 'Gr Liv Area', 'Overall Qual'],\n",
      "      dtype='object')\n",
      "[-1.12764871e+05  3.78815268e+01  7.08698430e+03 -2.22197281e+03\n",
      "  4.31853639e+01  6.48808564e+01  3.87112549e+01  2.45531837e+04]\n"
     ]
    }
   ],
   "source": [
    "import numpy as np\n",
    "import matplotlib.pyplot as plt\n",
    "import pandas as pd\n",
    "\n",
    "target = \"SalePrice\"\n",
    "\n",
    "data = pd.read_csv('AmesHousing.txt', delimiter=\"\\t\")\n",
    "train = data[0:1460]\n",
    "test = data[1460:]\n",
    "\n",
    "features = ['Wood Deck SF', 'Fireplaces', 'Full Bath', '1st Flr SF', 'Garage Area','Gr Liv Area', 'Overall Qual']\n",
    "#X is a dataframe, where the first column is full of 1's\n",
    "X = train[features].copy()\n",
    "X['bias'] = 1\n",
    "print(X.columns)\n",
    "#This is the way to rearrange the columns\n",
    "X = X[['bias']+features]\n",
    "print(X.columns)\n",
    "y = train[target]\n",
    "\n",
    "XT =  np.transpose(X)\n",
    "A = np.linalg.inv(np.dot(XT,X))\n",
    "B = np.dot(XT,y)\n",
    "ols_estimation = np.dot(A,B)\n",
    "\n",
    "print(ols_estimation)"
   ]
  },
  {
   "cell_type": "code",
   "execution_count": null,
   "id": "1713abc1",
   "metadata": {},
   "outputs": [],
   "source": []
  }
 ],
 "metadata": {
  "kernelspec": {
   "display_name": "Python 3",
   "language": "python",
   "name": "python3"
  },
  "language_info": {
   "codemirror_mode": {
    "name": "ipython",
    "version": 3
   },
   "file_extension": ".py",
   "mimetype": "text/x-python",
   "name": "python",
   "nbconvert_exporter": "python",
   "pygments_lexer": "ipython3",
   "version": "3.8.8"
  }
 },
 "nbformat": 4,
 "nbformat_minor": 5
}
