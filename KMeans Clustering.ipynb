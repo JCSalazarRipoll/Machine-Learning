{
 "cells": [
  {
   "cell_type": "code",
   "execution_count": 1,
   "id": "e6e65414",
   "metadata": {},
   "outputs": [],
   "source": [
    "import pandas as pd\n",
    "import numpy as np\n",
    "import matplotlib.pyplot as plt\n",
    "from sklearn.metrics.pairwise import euclidean_distances"
   ]
  },
  {
   "cell_type": "code",
   "execution_count": 2,
   "id": "62071408",
   "metadata": {},
   "outputs": [],
   "source": [
    "nba = pd.read_csv(\"nba_2013.csv\")\n",
    "rowsNBA, columnsNBA = nba.shape\n",
    "nba = nba.dropna()\n",
    "# print(nba.head(3))\n",
    "# cols = ['player','pos','g','pts','fg.','ft.']"
   ]
  },
  {
   "cell_type": "code",
   "execution_count": 3,
   "id": "55a53734",
   "metadata": {},
   "outputs": [],
   "source": [
    "point_guards = nba[nba['pos'] == 'PG'].copy()\n",
    "\n",
    "point_guards['Cluster']=-1\n",
    "\n",
    "# print(dir(point_guards))\n",
    "\n",
    "# print(point_guards.head(3)) \n",
    "\n",
    "# point_guards"
   ]
  },
  {
   "cell_type": "code",
   "execution_count": 4,
   "id": "598904b2",
   "metadata": {},
   "outputs": [
    {
     "data": {
      "text/html": [
       "<div>\n",
       "<style scoped>\n",
       "    .dataframe tbody tr th:only-of-type {\n",
       "        vertical-align: middle;\n",
       "    }\n",
       "\n",
       "    .dataframe tbody tr th {\n",
       "        vertical-align: top;\n",
       "    }\n",
       "\n",
       "    .dataframe thead th {\n",
       "        text-align: right;\n",
       "    }\n",
       "</style>\n",
       "<table border=\"1\" class=\"dataframe\">\n",
       "  <thead>\n",
       "    <tr style=\"text-align: right;\">\n",
       "      <th></th>\n",
       "      <th>pts</th>\n",
       "      <th>g</th>\n",
       "      <th>ppg</th>\n",
       "      <th>Cluster</th>\n",
       "    </tr>\n",
       "  </thead>\n",
       "  <tbody>\n",
       "    <tr>\n",
       "      <th>24</th>\n",
       "      <td>930</td>\n",
       "      <td>71</td>\n",
       "      <td>13.098592</td>\n",
       "      <td>-1</td>\n",
       "    </tr>\n",
       "    <tr>\n",
       "      <th>29</th>\n",
       "      <td>150</td>\n",
       "      <td>20</td>\n",
       "      <td>7.500000</td>\n",
       "      <td>-1</td>\n",
       "    </tr>\n",
       "    <tr>\n",
       "      <th>30</th>\n",
       "      <td>660</td>\n",
       "      <td>79</td>\n",
       "      <td>8.354430</td>\n",
       "      <td>-1</td>\n",
       "    </tr>\n",
       "    <tr>\n",
       "      <th>38</th>\n",
       "      <td>666</td>\n",
       "      <td>72</td>\n",
       "      <td>9.250000</td>\n",
       "      <td>-1</td>\n",
       "    </tr>\n",
       "    <tr>\n",
       "      <th>50</th>\n",
       "      <td>378</td>\n",
       "      <td>55</td>\n",
       "      <td>6.872727</td>\n",
       "      <td>-1</td>\n",
       "    </tr>\n",
       "  </tbody>\n",
       "</table>\n",
       "</div>"
      ],
      "text/plain": [
       "    pts   g        ppg  Cluster\n",
       "24  930  71  13.098592       -1\n",
       "29  150  20   7.500000       -1\n",
       "30  660  79   8.354430       -1\n",
       "38  666  72   9.250000       -1\n",
       "50  378  55   6.872727       -1"
      ]
     },
     "execution_count": 4,
     "metadata": {},
     "output_type": "execute_result"
    }
   ],
   "source": [
    "point_guards = point_guards[point_guards['g'] != 0]\n",
    "\n",
    "point_guards['ppg'] = point_guards['pts'] / point_guards['g']\n",
    "\n",
    "point_guards[['pts', 'g', 'ppg','Cluster']].head(5)"
   ]
  },
  {
   "cell_type": "code",
   "execution_count": 5,
   "id": "f1921b03",
   "metadata": {},
   "outputs": [
    {
     "data": {
      "text/html": [
       "<div>\n",
       "<style scoped>\n",
       "    .dataframe tbody tr th:only-of-type {\n",
       "        vertical-align: middle;\n",
       "    }\n",
       "\n",
       "    .dataframe tbody tr th {\n",
       "        vertical-align: top;\n",
       "    }\n",
       "\n",
       "    .dataframe thead th {\n",
       "        text-align: right;\n",
       "    }\n",
       "</style>\n",
       "<table border=\"1\" class=\"dataframe\">\n",
       "  <thead>\n",
       "    <tr style=\"text-align: right;\">\n",
       "      <th></th>\n",
       "      <th>ast</th>\n",
       "      <th>tov</th>\n",
       "      <th>atr</th>\n",
       "    </tr>\n",
       "  </thead>\n",
       "  <tbody>\n",
       "    <tr>\n",
       "      <th>24</th>\n",
       "      <td>313</td>\n",
       "      <td>125</td>\n",
       "      <td>2.504000</td>\n",
       "    </tr>\n",
       "    <tr>\n",
       "      <th>29</th>\n",
       "      <td>32</td>\n",
       "      <td>19</td>\n",
       "      <td>1.684211</td>\n",
       "    </tr>\n",
       "    <tr>\n",
       "      <th>30</th>\n",
       "      <td>303</td>\n",
       "      <td>125</td>\n",
       "      <td>2.424000</td>\n",
       "    </tr>\n",
       "    <tr>\n",
       "      <th>38</th>\n",
       "      <td>194</td>\n",
       "      <td>82</td>\n",
       "      <td>2.365854</td>\n",
       "    </tr>\n",
       "    <tr>\n",
       "      <th>50</th>\n",
       "      <td>307</td>\n",
       "      <td>102</td>\n",
       "      <td>3.009804</td>\n",
       "    </tr>\n",
       "  </tbody>\n",
       "</table>\n",
       "</div>"
      ],
      "text/plain": [
       "    ast  tov       atr\n",
       "24  313  125  2.504000\n",
       "29   32   19  1.684211\n",
       "30  303  125  2.424000\n",
       "38  194   82  2.365854\n",
       "50  307  102  3.009804"
      ]
     },
     "execution_count": 5,
     "metadata": {},
     "output_type": "execute_result"
    }
   ],
   "source": [
    "point_guards = point_guards[point_guards['tov'] != 0]\n",
    "\n",
    "point_guards['atr'] = point_guards['ast'] / point_guards['tov']\n",
    "\n",
    "point_guards[['ast', 'tov', 'atr']].head(5)"
   ]
  },
  {
   "cell_type": "code",
   "execution_count": 6,
   "id": "4d4eb158",
   "metadata": {},
   "outputs": [
    {
     "data": {
      "image/png": "[encoded data removed]",
      "text/plain": [
       "<Figure size 432x288 with 1 Axes>"
      ]
     },
     "metadata": {
      "needs_background": "light"
     },
     "output_type": "display_data"
    }
   ],
   "source": [
    "point_guards = point_guards.dropna(subset=['ppg', 'atr'])\n",
    "plt.scatter(point_guards['ppg'], point_guards['atr'], c='y')\n",
    "plt.title(\"Point Guards\")\n",
    "plt.xlabel('Points Per Game', fontsize=13)\n",
    "plt.ylabel('Assist Turnover Ratio', fontsize=13)\n",
    "plt.show()\n",
    "\n"
   ]
  },
  {
   "cell_type": "code",
   "execution_count": 7,
   "id": "dd15faad",
   "metadata": {},
   "outputs": [
    {
     "name": "stdout",
     "output_type": "stream",
     "text": [
      "             player pos  age bref_team_id   g  gs    mp   fg  fga    fg.  ...  \\\n",
      "24    D.J. Augustin  PG   26          TOT  71   9  1939  298  718  0.415  ...   \n",
      "29  Leandro Barbosa  PG   31          PHO  20   0   368   56  131  0.427  ...   \n",
      "30       Jose Barea  PG   29          MIN  79   1  1471  254  656  0.387  ...   \n",
      "38   Jerryd Bayless  PG   25          TOT  72  19  1686  248  617  0.402  ...   \n",
      "50      Steve Blake  PG   33          TOT  55  28  1498  133  353  0.377  ...   \n",
      "\n",
      "    stl  blk  tov   pf  pts     season  season_end  Cluster        ppg  \\\n",
      "24   53    3  125  147  930  2013-2014        2013       -1  13.098592   \n",
      "29    7    4   19   30  150  2013-2014        2013       -1   7.500000   \n",
      "30   26    0  125  129  660  2013-2014        2013       -1   8.354430   \n",
      "38   60    9   82  161  666  2013-2014        2013       -1   9.250000   \n",
      "50   54    8  102   85  378  2013-2014        2013       -1   6.872727   \n",
      "\n",
      "         atr  \n",
      "24  2.504000  \n",
      "29  1.684211  \n",
      "30  2.424000  \n",
      "38  2.365854  \n",
      "50  3.009804  \n",
      "\n",
      "[5 rows x 34 columns]\n",
      "D.J. Augustin\n",
      "[24]\n"
     ]
    }
   ],
   "source": [
    "num_clusters = 5\n",
    "# Use numpy's random function to generate a list, length: num_clusters, of indices\n",
    "# random_initial_points = np.random.choice(point_guards.index, size=num_clusters)\n",
    "random_initial_points = [0,1,2,3,4]\n",
    "# print(random_initial_points)\n",
    "# Use the random indices to create the centroids\n",
    "# centroids = point_guards.loc[random_initial_points]\n",
    "centroids = point_guards.iloc[random_initial_points]\n",
    "print((centroids))\n",
    "print(centroids.iloc[0]['player'])\n",
    "\n",
    "print(point_guards.index[point_guards['player'] == centroids.iloc[0]['player']].tolist())\n"
   ]
  },
  {
   "cell_type": "code",
   "execution_count": 8,
   "id": "ad0438e8",
   "metadata": {},
   "outputs": [
    {
     "name": "stdout",
     "output_type": "stream",
     "text": [
      "0\n",
      "0\n",
      "0\n",
      "0\n",
      "0\n",
      "0\n",
      "0\n",
      "1\n",
      "1\n",
      "1\n",
      "1\n",
      "1\n",
      "0\n",
      "1\n",
      "2\n",
      "2\n",
      "2\n",
      "2\n",
      "0\n",
      "1\n",
      "2\n",
      "3\n",
      "3\n",
      "3\n",
      "0\n",
      "1\n",
      "1\n",
      "1\n",
      "4\n",
      "4\n",
      "             player pos  age bref_team_id   g  gs    mp   fg  fga    fg.  ...  \\\n",
      "24    D.J. Augustin  PG   26          TOT  71   9  1939  298  718  0.415  ...   \n",
      "29  Leandro Barbosa  PG   31          PHO  20   0   368   56  131  0.427  ...   \n",
      "30       Jose Barea  PG   29          MIN  79   1  1471  254  656  0.387  ...   \n",
      "38   Jerryd Bayless  PG   25          TOT  72  19  1686  248  617  0.402  ...   \n",
      "50      Steve Blake  PG   33          TOT  55  28  1498  133  353  0.377  ...   \n",
      "\n",
      "    stl  blk  tov   pf  pts     season  season_end  Cluster        ppg  \\\n",
      "24   53    3  125  147  930  2013-2014        2013       -1  13.098592   \n",
      "29    7    4   19   30  150  2013-2014        2013       -1   7.500000   \n",
      "30   26    0  125  129  660  2013-2014        2013       -1   8.354430   \n",
      "38   60    9   82  161  666  2013-2014        2013       -1   9.250000   \n",
      "50   54    8  102   85  378  2013-2014        2013       -1   6.872727   \n",
      "\n",
      "         atr  \n",
      "24  2.504000  \n",
      "29  1.684211  \n",
      "30  2.424000  \n",
      "38  2.365854  \n",
      "50  3.009804  \n",
      "\n",
      "[5 rows x 34 columns]\n",
      "-1    81\n",
      "Name: Cluster, dtype: int64\n",
      "             player pos  age bref_team_id   g  gs    mp   fg  fga    fg.  ...  \\\n",
      "24    D.J. Augustin  PG   26          TOT  71   9  1939  298  718  0.415  ...   \n",
      "29  Leandro Barbosa  PG   31          PHO  20   0   368   56  131  0.427  ...   \n",
      "30       Jose Barea  PG   29          MIN  79   1  1471  254  656  0.387  ...   \n",
      "38   Jerryd Bayless  PG   25          TOT  72  19  1686  248  617  0.402  ...   \n",
      "50      Steve Blake  PG   33          TOT  55  28  1498  133  353  0.377  ...   \n",
      "\n",
      "    stl  blk  tov   pf  pts     season  season_end  Cluster        ppg  \\\n",
      "24   53    3  125  147  930  2013-2014        2013       -1  13.098592   \n",
      "29    7    4   19   30  150  2013-2014        2013       -1   7.500000   \n",
      "30   26    0  125  129  660  2013-2014        2013       -1   8.354430   \n",
      "38   60    9   82  161  666  2013-2014        2013       -1   9.250000   \n",
      "50   54    8  102   85  378  2013-2014        2013       -1   6.872727   \n",
      "\n",
      "         atr  \n",
      "24  2.504000  \n",
      "29  1.684211  \n",
      "30  2.424000  \n",
      "38  2.365854  \n",
      "50  3.009804  \n",
      "\n",
      "[5 rows x 34 columns]\n"
     ]
    }
   ],
   "source": [
    "#First, we need to calculate the clusters based on the euclidean distances\n",
    "#Second, calculate the new centroids as the center of the clusters\n",
    "\n",
    "def clustering(centroids):\n",
    "    \n",
    "#     point_guards['Cluster']=-1\n",
    "\n",
    "    for i in range(5):  \n",
    "#     for i in range(len(point_guards)):\n",
    "        minDistance = None\n",
    "        cluster = None\n",
    "        for c in range(len(centroids)):\n",
    "            distance = euclidean_distances((point_guards.iloc[i][['atr','ppg']]).values.reshape(1, -1), (centroids.iloc[c][['atr','ppg']]).values.reshape(1, -1))\n",
    "#             print(distance)\n",
    "            if minDistance == None or distance < minDistance:\n",
    "                minDistance = distance\n",
    "                cluster = c\n",
    "            if cluster != None:\n",
    "                print(cluster)\n",
    "                new_column = pd.Series([cluster],name = 'Cluster', index = [i])\n",
    "                point_guards.update(new_column)\n",
    "        print(cluster)\n",
    "    \n",
    "    print(point_guards.head())\n",
    "    return point_guards\n",
    "        \n",
    "\n",
    "# def centroiding(centroids):\n",
    "#     newCentroids \n",
    "#     for i in clusters:\n",
    "#         centroids.append(centroid(clusters[i]))\n",
    "#     return newCentroids\n",
    "\n",
    "# centroids = point_guards.loc[random_initial_points]\n",
    "\n",
    "# def centroid(cluster):\n",
    "    \n",
    "#     return centroid\n",
    "point_guards = clustering(centroids)\n",
    "print(point_guards['Cluster'].value_counts())\n",
    "print(point_guards.head())\n",
    "# print(point_guards['Cluster'].unique())\n",
    "\n",
    "# centroids = centroiding(clustering)"
   ]
  },
  {
   "cell_type": "code",
   "execution_count": 9,
   "id": "d2a430d6",
   "metadata": {},
   "outputs": [
    {
     "name": "stdout",
     "output_type": "stream",
     "text": [
      "Series([], Name: Cluster, dtype: int64)\n",
      "Empty DataFrame\n",
      "Columns: [ppg, atr]\n",
      "Index: []\n"
     ]
    },
    {
     "data": {
      "image/png": "[encoded data removed]",
      "text/plain": [
       "<Figure size 432x288 with 1 Axes>"
      ]
     },
     "metadata": {
      "needs_background": "light"
     },
     "output_type": "display_data"
    },
    {
     "name": "stdout",
     "output_type": "stream",
     "text": [
      "5\n"
     ]
    }
   ],
   "source": [
    "colors = ['green','blue','yellow','black','purple']\n",
    "\n",
    "for i in range(3,4):\n",
    "    cluster = point_guards[point_guards['Cluster'] == i]\n",
    "    print(cluster['Cluster'].value_counts())\n",
    "    print(cluster[['ppg','atr']])\n",
    "    plt.scatter(cluster['ppg'], cluster['atr'], c=colors[i])\n",
    "# plt.scatter(point_guards['ppg'], point_guards['atr'], c=colors[0])\n",
    "# plt.scatter(centroids['ppg'], centroids['atr'], c='red')\n",
    "plt.title(\"Centroids\")\n",
    "plt.xlabel('Points Per Game', fontsize=13)\n",
    "plt.ylabel('Assist Turnover Ratio', fontsize=13)\n",
    "plt.show()\n",
    "print(len(centroids))"
   ]
  },
  {
   "cell_type": "code",
   "execution_count": 10,
   "id": "d0de8240",
   "metadata": {},
   "outputs": [
    {
     "data": {
      "text/html": [
       "<div>\n",
       "<style scoped>\n",
       "    .dataframe tbody tr th:only-of-type {\n",
       "        vertical-align: middle;\n",
       "    }\n",
       "\n",
       "    .dataframe tbody tr th {\n",
       "        vertical-align: top;\n",
       "    }\n",
       "\n",
       "    .dataframe thead th {\n",
       "        text-align: right;\n",
       "    }\n",
       "</style>\n",
       "<table border=\"1\" class=\"dataframe\">\n",
       "  <thead>\n",
       "    <tr style=\"text-align: right;\">\n",
       "      <th></th>\n",
       "      <th>A</th>\n",
       "      <th>B</th>\n",
       "    </tr>\n",
       "  </thead>\n",
       "  <tbody>\n",
       "    <tr>\n",
       "      <th>0</th>\n",
       "      <td>a</td>\n",
       "      <td>d</td>\n",
       "    </tr>\n",
       "    <tr>\n",
       "      <th>1</th>\n",
       "      <td>b</td>\n",
       "      <td>y</td>\n",
       "    </tr>\n",
       "    <tr>\n",
       "      <th>2</th>\n",
       "      <td>c</td>\n",
       "      <td>e</td>\n",
       "    </tr>\n",
       "  </tbody>\n",
       "</table>\n",
       "</div>"
      ],
      "text/plain": [
       "   A  B\n",
       "0  a  d\n",
       "1  b  y\n",
       "2  c  e"
      ]
     },
     "execution_count": 10,
     "metadata": {},
     "output_type": "execute_result"
    }
   ],
   "source": [
    "df = pd.DataFrame({'A': ['a', 'b', 'c'],\n",
    "                   'B': ['x', 'y', 'z']})\n",
    "new_column = pd.Series(['d', 'e'], name='B', index=[0, 2])\n",
    "df.update(new_column)\n",
    "df"
   ]
  },
  {
   "cell_type": "code",
   "execution_count": 11,
   "id": "8098b9d5",
   "metadata": {},
   "outputs": [],
   "source": [
    "import pandas as pd\n",
    "import numpy as np\n",
    "\n",
    "nba = pd.read_csv(\"nba_2013.csv\")\n",
    "nba.head(3)\n",
    "cols = ['player','pos','g','pts','fg.','ft.']"
   ]
  },
  {
   "cell_type": "code",
   "execution_count": 12,
   "id": "7393050d",
   "metadata": {},
   "outputs": [
    {
     "name": "stdout",
     "output_type": "stream",
     "text": [
      "             player pos  age bref_team_id   g  gs    mp   fg  fga    fg.  ...  \\\n",
      "24    D.J. Augustin  PG   26          TOT  71   9  1939  298  718  0.415  ...   \n",
      "29  Leandro Barbosa  PG   31          PHO  20   0   368   56  131  0.427  ...   \n",
      "30       Jose Barea  PG   29          MIN  79   1  1471  254  656  0.387  ...   \n",
      "\n",
      "    drb  trb  ast  stl  blk  tov   pf  pts     season  season_end  \n",
      "24  115  130  313   53    3  125  147  930  2013-2014        2013  \n",
      "29   32   37   32    7    4   19   30  150  2013-2014        2013  \n",
      "30  138  154  303   26    0  125  129  660  2013-2014        2013  \n",
      "\n",
      "[3 rows x 31 columns]\n"
     ]
    }
   ],
   "source": [
    "nba = pd.read_csv(\"nba_2013.csv\")\n",
    "cols = ['player','pos','g','pts','fg.','ft.']\n",
    "\n",
    "point_guards = nba[nba['pos'] == 'PG']\n",
    "\n",
    "print(point_guards.head(3)) "
   ]
  },
  {
   "cell_type": "code",
   "execution_count": 13,
   "id": "637d74f5",
   "metadata": {},
   "outputs": [
    {
     "name": "stderr",
     "output_type": "stream",
     "text": [
      "<ipython-input-13-760436f72843>:1: SettingWithCopyWarning: \n",
      "A value is trying to be set on a copy of a slice from a DataFrame.\n",
      "Try using .loc[row_indexer,col_indexer] = value instead\n",
      "\n",
      "See the caveats in the documentation: https://pandas.pydata.org/pandas-docs/stable/user_guide/indexing.html#returning-a-view-versus-a-copy\n",
      "  point_guards['ppg'] = point_guards['pts'] / point_guards['g']\n"
     ]
    },
    {
     "data": {
      "text/html": [
       "<div>\n",
       "<style scoped>\n",
       "    .dataframe tbody tr th:only-of-type {\n",
       "        vertical-align: middle;\n",
       "    }\n",
       "\n",
       "    .dataframe tbody tr th {\n",
       "        vertical-align: top;\n",
       "    }\n",
       "\n",
       "    .dataframe thead th {\n",
       "        text-align: right;\n",
       "    }\n",
       "</style>\n",
       "<table border=\"1\" class=\"dataframe\">\n",
       "  <thead>\n",
       "    <tr style=\"text-align: right;\">\n",
       "      <th></th>\n",
       "      <th>pts</th>\n",
       "      <th>g</th>\n",
       "      <th>ppg</th>\n",
       "    </tr>\n",
       "  </thead>\n",
       "  <tbody>\n",
       "    <tr>\n",
       "      <th>24</th>\n",
       "      <td>930</td>\n",
       "      <td>71</td>\n",
       "      <td>13.098592</td>\n",
       "    </tr>\n",
       "    <tr>\n",
       "      <th>29</th>\n",
       "      <td>150</td>\n",
       "      <td>20</td>\n",
       "      <td>7.500000</td>\n",
       "    </tr>\n",
       "    <tr>\n",
       "      <th>30</th>\n",
       "      <td>660</td>\n",
       "      <td>79</td>\n",
       "      <td>8.354430</td>\n",
       "    </tr>\n",
       "    <tr>\n",
       "      <th>38</th>\n",
       "      <td>666</td>\n",
       "      <td>72</td>\n",
       "      <td>9.250000</td>\n",
       "    </tr>\n",
       "    <tr>\n",
       "      <th>50</th>\n",
       "      <td>378</td>\n",
       "      <td>55</td>\n",
       "      <td>6.872727</td>\n",
       "    </tr>\n",
       "  </tbody>\n",
       "</table>\n",
       "</div>"
      ],
      "text/plain": [
       "    pts   g        ppg\n",
       "24  930  71  13.098592\n",
       "29  150  20   7.500000\n",
       "30  660  79   8.354430\n",
       "38  666  72   9.250000\n",
       "50  378  55   6.872727"
      ]
     },
     "execution_count": 13,
     "metadata": {},
     "output_type": "execute_result"
    }
   ],
   "source": [
    "point_guards['ppg'] = point_guards['pts'] / point_guards['g']\n",
    "\n",
    "point_guards[['pts', 'g', 'ppg']].head(5)"
   ]
  },
  {
   "cell_type": "code",
   "execution_count": 14,
   "id": "2416fb40",
   "metadata": {},
   "outputs": [
    {
     "data": {
      "text/html": [
       "<div>\n",
       "<style scoped>\n",
       "    .dataframe tbody tr th:only-of-type {\n",
       "        vertical-align: middle;\n",
       "    }\n",
       "\n",
       "    .dataframe tbody tr th {\n",
       "        vertical-align: top;\n",
       "    }\n",
       "\n",
       "    .dataframe thead th {\n",
       "        text-align: right;\n",
       "    }\n",
       "</style>\n",
       "<table border=\"1\" class=\"dataframe\">\n",
       "  <thead>\n",
       "    <tr style=\"text-align: right;\">\n",
       "      <th></th>\n",
       "      <th>ast</th>\n",
       "      <th>tov</th>\n",
       "      <th>atr</th>\n",
       "    </tr>\n",
       "  </thead>\n",
       "  <tbody>\n",
       "    <tr>\n",
       "      <th>24</th>\n",
       "      <td>313</td>\n",
       "      <td>125</td>\n",
       "      <td>2.504000</td>\n",
       "    </tr>\n",
       "    <tr>\n",
       "      <th>29</th>\n",
       "      <td>32</td>\n",
       "      <td>19</td>\n",
       "      <td>1.684211</td>\n",
       "    </tr>\n",
       "    <tr>\n",
       "      <th>30</th>\n",
       "      <td>303</td>\n",
       "      <td>125</td>\n",
       "      <td>2.424000</td>\n",
       "    </tr>\n",
       "    <tr>\n",
       "      <th>38</th>\n",
       "      <td>194</td>\n",
       "      <td>82</td>\n",
       "      <td>2.365854</td>\n",
       "    </tr>\n",
       "    <tr>\n",
       "      <th>50</th>\n",
       "      <td>307</td>\n",
       "      <td>102</td>\n",
       "      <td>3.009804</td>\n",
       "    </tr>\n",
       "  </tbody>\n",
       "</table>\n",
       "</div>"
      ],
      "text/plain": [
       "    ast  tov       atr\n",
       "24  313  125  2.504000\n",
       "29   32   19  1.684211\n",
       "30  303  125  2.424000\n",
       "38  194   82  2.365854\n",
       "50  307  102  3.009804"
      ]
     },
     "execution_count": 14,
     "metadata": {},
     "output_type": "execute_result"
    }
   ],
   "source": [
    "point_guards = point_guards[point_guards['tov'] != 0]\n",
    "\n",
    "point_guards['atr'] = point_guards['ast'] / point_guards['tov']\n",
    "\n",
    "point_guards[['ast', 'tov', 'atr']].head(5)"
   ]
  },
  {
   "cell_type": "code",
   "execution_count": 15,
   "id": "b5c4c482",
   "metadata": {},
   "outputs": [
    {
     "data": {
      "image/png": "[encoded data removed]",
      "text/plain": [
       "<Figure size 432x288 with 1 Axes>"
      ]
     },
     "metadata": {
      "needs_background": "light"
     },
     "output_type": "display_data"
    }
   ],
   "source": [
    "plt.scatter(point_guards['ppg'], point_guards['atr'], c='y')\n",
    "plt.title(\"Point Guards\")\n",
    "plt.xlabel('Points Per Game', fontsize=13)\n",
    "plt.ylabel('Assist Turnover Ratio', fontsize=13)\n",
    "plt.show()"
   ]
  },
  {
   "cell_type": "code",
   "execution_count": 16,
   "id": "7f26b2ea",
   "metadata": {},
   "outputs": [],
   "source": [
    "num_clusters = 5\n",
    "# Use numpy's random function to generate a list, length: num_clusters, of indices\n",
    "random_initial_points = np.random.choice(point_guards.index, size=num_clusters)\n",
    "# Use the random indices to create the centroids\n",
    "centroids = point_guards.loc[random_initial_points]"
   ]
  },
  {
   "cell_type": "code",
   "execution_count": 17,
   "id": "e400223e",
   "metadata": {},
   "outputs": [
    {
     "data": {
      "image/png": "[encoded data removed]",
      "text/plain": [
       "<Figure size 432x288 with 1 Axes>"
      ]
     },
     "metadata": {
      "needs_background": "light"
     },
     "output_type": "display_data"
    }
   ],
   "source": [
    "plt.scatter(point_guards['ppg'], point_guards['atr'], c='yellow')\n",
    "plt.scatter(centroids['ppg'], centroids['atr'], c='red')\n",
    "plt.title(\"Centroids\")\n",
    "plt.xlabel('Points Per Game', fontsize=13)\n",
    "plt.ylabel('Assist Turnover Ratio', fontsize=13)\n",
    "plt.show()"
   ]
  },
  {
   "cell_type": "code",
   "execution_count": 18,
   "id": "22ed52fc",
   "metadata": {},
   "outputs": [],
   "source": [
    "def centroids_to_dict(centroids):\n",
    "    dictionary = dict()\n",
    "    # iterating counter we use to generate a cluster_id\n",
    "    counter = 0\n",
    "\n",
    "    # iterate a pandas data frame row-wise using .iterrows()\n",
    "    for index, row in centroids.iterrows():\n",
    "        coordinates = [row['ppg'], row['atr']]\n",
    "        dictionary[counter] = coordinates\n",
    "        counter += 1\n",
    "\n",
    "    return dictionary\n",
    "\n",
    "centroids_dict = centroids_to_dict(centroids)"
   ]
  },
  {
   "cell_type": "code",
   "execution_count": 19,
   "id": "9b264e82",
   "metadata": {},
   "outputs": [
    {
     "name": "stdout",
     "output_type": "stream",
     "text": [
      "2.23606797749979\n"
     ]
    }
   ],
   "source": [
    "import math\n",
    "\n",
    "def calculate_distance(centroid, player_values):\n",
    "    root_distance = 0\n",
    "    \n",
    "    for x in range(0, len(centroid)):\n",
    "        difference = centroid[x] - player_values[x]\n",
    "        squared_difference = difference**2\n",
    "        root_distance += squared_difference\n",
    "\n",
    "    euclid_distance = math.sqrt(root_distance)\n",
    "    return euclid_distance\n",
    "\n",
    "q = [5, 2]\n",
    "p = [3,1]\n",
    "\n",
    "# Sqrt(5) = ~2.24\n",
    "print(calculate_distance(q, p))"
   ]
  },
  {
   "cell_type": "code",
   "execution_count": 20,
   "id": "19c85664",
   "metadata": {},
   "outputs": [],
   "source": [
    "# Add the function, `assign_to_cluster`\n",
    "# This creates the column, `cluster`, by applying assign_to_cluster row-by-row\n",
    "# Uncomment when ready\n",
    "\n",
    "# point_guards['cluster'] = point_guards.apply(lambda row: assign_to_cluster(row), axis=1)\n",
    "def assign_to_cluster(row):\n",
    "    lowest_distance = -1\n",
    "    closest_cluster = -1\n",
    "    \n",
    "    for cluster_id, centroid in centroids_dict.items():\n",
    "        df_row = [row['ppg'], row['atr']]\n",
    "        euclidean_distance = calculate_distance(centroid, df_row)\n",
    "        \n",
    "        if lowest_distance == -1:\n",
    "            lowest_distance = euclidean_distance\n",
    "            closest_cluster = cluster_id \n",
    "        elif euclidean_distance < lowest_distance:\n",
    "            lowest_distance = euclidean_distance\n",
    "            closest_cluster = cluster_id\n",
    "    return closest_cluster\n",
    "\n",
    "point_guards['cluster'] = point_guards.apply(lambda row: assign_to_cluster(row), axis=1)"
   ]
  },
  {
   "cell_type": "code",
   "execution_count": 21,
   "id": "2a074ee5",
   "metadata": {},
   "outputs": [
    {
     "data": {
      "image/png": "[encoded data removed]",
      "text/plain": [
       "<Figure size 432x288 with 1 Axes>"
      ]
     },
     "metadata": {
      "needs_background": "light"
     },
     "output_type": "display_data"
    }
   ],
   "source": [
    "# Visualizing clusters\n",
    "def visualize_clusters(df, num_clusters):\n",
    "    colors = ['b', 'g', 'r', 'c', 'm', 'y', 'k']\n",
    "\n",
    "    for n in range(num_clusters):\n",
    "        clustered_df = df[df['cluster'] == n]\n",
    "        plt.scatter(clustered_df['ppg'], clustered_df['atr'], c=colors[n-1])\n",
    "        plt.xlabel('Points Per Game', fontsize=13)\n",
    "        plt.ylabel('Assist Turnover Ratio', fontsize=13)\n",
    "    plt.show()\n",
    "\n",
    "visualize_clusters(point_guards, 5)"
   ]
  },
  {
   "cell_type": "code",
   "execution_count": 22,
   "id": "c9e6a4ba",
   "metadata": {},
   "outputs": [
    {
     "name": "stderr",
     "output_type": "stream",
     "text": [
      "C:\\ProgramData\\Anaconda3\\lib\\site-packages\\numpy\\lib\\function_base.py:380: RuntimeWarning: Mean of empty slice.\n",
      "  avg = a.mean(axis)\n",
      "C:\\ProgramData\\Anaconda3\\lib\\site-packages\\numpy\\core\\_methods.py:188: RuntimeWarning: invalid value encountered in double_scalars\n",
      "  ret = ret.dtype.type(ret / rcount)\n"
     ]
    }
   ],
   "source": [
    "def recalculate_centroids(df):\n",
    "    new_centroids_dict = dict()\n",
    "    # 0..1...2...3...4\n",
    "    for cluster_id in range(0, num_clusters):\n",
    "        # Finish the logic\n",
    "        return new_centroids_dict\n",
    "\n",
    "centroids_dict = recalculate_centroids(point_guards)\n",
    "def recalculate_centroids(df):\n",
    "    new_centroids_dict = dict()\n",
    "    \n",
    "    for cluster_id in range(0, num_clusters):\n",
    "        values_in_cluster = df[df['cluster'] == cluster_id]\n",
    "        # Calculate new centroid using mean of values in the cluster\n",
    "        new_centroid = [np.average(values_in_cluster['ppg']), np.average(values_in_cluster['atr'])]\n",
    "        new_centroids_dict[cluster_id] = new_centroid\n",
    "    return new_centroids_dict\n",
    "\n",
    "centroids_dict = recalculate_centroids(point_guards)"
   ]
  },
  {
   "cell_type": "code",
   "execution_count": 23,
   "id": "b7d5a99b",
   "metadata": {},
   "outputs": [
    {
     "data": {
      "image/png": "[encoded data removed]",
      "text/plain": [
       "<Figure size 432x288 with 1 Axes>"
      ]
     },
     "metadata": {
      "needs_background": "light"
     },
     "output_type": "display_data"
    }
   ],
   "source": [
    "point_guards['cluster'] = point_guards.apply(lambda row: assign_to_cluster(row), axis=1)\n",
    "visualize_clusters(point_guards, num_clusters)"
   ]
  },
  {
   "cell_type": "code",
   "execution_count": 24,
   "id": "064b2f73",
   "metadata": {},
   "outputs": [
    {
     "name": "stderr",
     "output_type": "stream",
     "text": [
      "C:\\ProgramData\\Anaconda3\\lib\\site-packages\\numpy\\lib\\function_base.py:380: RuntimeWarning: Mean of empty slice.\n",
      "  avg = a.mean(axis)\n",
      "C:\\ProgramData\\Anaconda3\\lib\\site-packages\\numpy\\core\\_methods.py:188: RuntimeWarning: invalid value encountered in double_scalars\n",
      "  ret = ret.dtype.type(ret / rcount)\n"
     ]
    },
    {
     "data": {
      "image/png": "[encoded data removed]",
      "text/plain": [
       "<Figure size 432x288 with 1 Axes>"
      ]
     },
     "metadata": {
      "needs_background": "light"
     },
     "output_type": "display_data"
    }
   ],
   "source": [
    "centroids_dict = recalculate_centroids(point_guards)\n",
    "point_guards['cluster'] = point_guards.apply(lambda row: assign_to_cluster(row), axis=1)\n",
    "visualize_clusters(point_guards, num_clusters)"
   ]
  },
  {
   "cell_type": "code",
   "execution_count": 25,
   "id": "f15bf359",
   "metadata": {},
   "outputs": [
    {
     "data": {
      "image/png": "[encoded data removed]",
      "text/plain": [
       "<Figure size 432x288 with 1 Axes>"
      ]
     },
     "metadata": {
      "needs_background": "light"
     },
     "output_type": "display_data"
    }
   ],
   "source": [
    "from sklearn.cluster import KMeans\n",
    "\n",
    "kmeans = KMeans(n_clusters=num_clusters)\n",
    "kmeans.fit(point_guards[['ppg', 'atr']])\n",
    "point_guards['cluster'] = kmeans.labels_\n",
    "\n",
    "visualize_clusters(point_guards, num_clusters)"
   ]
  }
 ],
 "metadata": {
  "kernelspec": {
   "display_name": "Python 3",
   "language": "python",
   "name": "python3"
  },
  "language_info": {
   "codemirror_mode": {
    "name": "ipython",
    "version": 3
   },
   "file_extension": ".py",
   "mimetype": "text/x-python",
   "name": "python",
   "nbconvert_exporter": "python",
   "pygments_lexer": "ipython3",
   "version": "3.8.8"
  }
 },
 "nbformat": 4,
 "nbformat_minor": 5
}
