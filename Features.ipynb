{
 "cells": [
  {
   "cell_type": "code",
   "execution_count": 1,
   "id": "3421e3bf",
   "metadata": {},
   "outputs": [],
   "source": [
    "import pandas as pd\n",
    "import numpy as np\n",
    "import matplotlib.pyplot as plt\n",
    "from sklearn.linear_model import LinearRegression\n",
    "from sklearn.metrics import mean_squared_error\n",
    "import seaborn as sns"
   ]
  },
  {
   "cell_type": "code",
   "execution_count": 2,
   "id": "d9ac1138",
   "metadata": {},
   "outputs": [
    {
     "name": "stdout",
     "output_type": "stream",
     "text": [
      "Index(['Order', 'PID', 'MS SubClass', 'MS Zoning', 'Lot Frontage', 'Lot Area',\n",
      "       'Street', 'Alley', 'Lot Shape', 'Land Contour', 'Utilities',\n",
      "       'Lot Config', 'Land Slope', 'Neighborhood', 'Condition 1',\n",
      "       'Condition 2', 'Bldg Type', 'House Style', 'Overall Qual',\n",
      "       'Overall Cond', 'Year Built', 'Year Remod/Add', 'Roof Style',\n",
      "       'Roof Matl', 'Exterior 1st', 'Exterior 2nd', 'Mas Vnr Type',\n",
      "       'Mas Vnr Area', 'Exter Qual', 'Exter Cond', 'Foundation', 'Bsmt Qual',\n",
      "       'Bsmt Cond', 'Bsmt Exposure', 'BsmtFin Type 1', 'BsmtFin SF 1',\n",
      "       'BsmtFin Type 2', 'BsmtFin SF 2', 'Bsmt Unf SF', 'Total Bsmt SF',\n",
      "       'Heating', 'Heating QC', 'Central Air', 'Electrical', '1st Flr SF',\n",
      "       '2nd Flr SF', 'Low Qual Fin SF', 'Gr Liv Area', 'Bsmt Full Bath',\n",
      "       'Bsmt Half Bath', 'Full Bath', 'Half Bath', 'Bedroom AbvGr',\n",
      "       'Kitchen AbvGr', 'Kitchen Qual', 'TotRms AbvGrd', 'Functional',\n",
      "       'Fireplaces', 'Fireplace Qu', 'Garage Type', 'Garage Yr Blt',\n",
      "       'Garage Finish', 'Garage Cars', 'Garage Area', 'Garage Qual',\n",
      "       'Garage Cond', 'Paved Drive', 'Wood Deck SF', 'Open Porch SF',\n",
      "       'Enclosed Porch', '3Ssn Porch', 'Screen Porch', 'Pool Area', 'Pool QC',\n",
      "       'Fence', 'Misc Feature', 'Misc Val', 'Mo Sold', 'Yr Sold', 'Sale Type',\n",
      "       'Sale Condition', 'SalePrice'],\n",
      "      dtype='object')\n"
     ]
    }
   ],
   "source": [
    "data = pd.read_csv('AmesHousing.txt',sep = '\\t')\n",
    "\n",
    "#Separating rows into the train rows and the test rows\n",
    "train = data[:1460].copy()\n",
    "test = data[1460:].copy()\n",
    "#the target column would be the column \"SalePrice\"\n",
    "target = \"SalePrice\"\n",
    "\n",
    "print(train.columns)"
   ]
  },
  {
   "cell_type": "code",
   "execution_count": 3,
   "id": "992f15be",
   "metadata": {},
   "outputs": [
    {
     "name": "stdout",
     "output_type": "stream",
     "text": [
      "Index(['Order', 'PID', 'MS SubClass', 'MS Zoning', 'Lot Area', 'Street',\n",
      "       'Lot Shape', 'Land Contour', 'Utilities', 'Lot Config', 'Land Slope',\n",
      "       'Neighborhood', 'Condition 1', 'Condition 2', 'Bldg Type',\n",
      "       'House Style', 'Overall Qual', 'Overall Cond', 'Year Built',\n",
      "       'Year Remod/Add', 'Roof Style', 'Roof Matl', 'Exterior 1st',\n",
      "       'Exterior 2nd', 'Exter Qual', 'Exter Cond', 'Foundation', 'Heating',\n",
      "       'Heating QC', 'Central Air', 'Electrical', '1st Flr SF', '2nd Flr SF',\n",
      "       'Low Qual Fin SF', 'Gr Liv Area', 'Full Bath', 'Half Bath',\n",
      "       'Bedroom AbvGr', 'Kitchen AbvGr', 'Kitchen Qual', 'TotRms AbvGrd',\n",
      "       'Functional', 'Fireplaces', 'Garage Cars', 'Garage Area', 'Paved Drive',\n",
      "       'Wood Deck SF', 'Open Porch SF', 'Enclosed Porch', '3Ssn Porch',\n",
      "       'Screen Porch', 'Pool Area', 'Misc Val', 'Mo Sold', 'Yr Sold',\n",
      "       'Sale Type', 'Sale Condition', 'SalePrice'],\n",
      "      dtype='object')\n"
     ]
    }
   ],
   "source": [
    "#Counting how many rows contain zero entries\n",
    "train_null_counts = train.isnull().sum()\n",
    "# print(train_null_counts)\n",
    "#Series containing no zero rows\n",
    "df_no_mv_series = train_null_counts[train_null_counts==0]\n",
    "#data frame with the columns with no missing values\n",
    "df_no_mv = train[df_no_mv_series.index]\n",
    "print(df_no_mv.columns)"
   ]
  },
  {
   "cell_type": "code",
   "execution_count": 4,
   "id": "67f2446d",
   "metadata": {},
   "outputs": [
    {
     "name": "stdout",
     "output_type": "stream",
     "text": [
      "Normal     1267\n",
      "Abnorml      98\n",
      "Partial      63\n",
      "Family       18\n",
      "Alloca       14\n",
      "Name: Sale Condition, dtype: int64\n"
     ]
    }
   ],
   "source": [
    "print(train['Sale Condition'].value_counts())"
   ]
  },
  {
   "cell_type": "code",
   "execution_count": 5,
   "id": "4002b677",
   "metadata": {},
   "outputs": [
    {
     "name": "stdout",
     "output_type": "stream",
     "text": [
      "MS Zoning: 6\n",
      "Street: 2\n",
      "Lot Shape: 4\n",
      "Land Contour: 4\n",
      "Utilities: 3\n",
      "Lot Config: 5\n",
      "Land Slope: 3\n",
      "Neighborhood: 26\n",
      "Condition 1: 9\n",
      "Condition 2: 6\n",
      "Bldg Type: 5\n",
      "House Style: 8\n",
      "Roof Style: 6\n",
      "Roof Matl: 5\n",
      "Exterior 1st: 14\n",
      "Exterior 2nd: 16\n",
      "Exter Qual: 4\n",
      "Exter Cond: 5\n",
      "Foundation: 6\n",
      "Heating: 6\n",
      "Heating QC: 4\n",
      "Central Air: 2\n",
      "Electrical: 4\n",
      "Kitchen Qual: 5\n",
      "Functional: 7\n",
      "Paved Drive: 3\n",
      "Sale Type: 9\n",
      "Sale Condition: 5\n"
     ]
    }
   ],
   "source": [
    "#We are selecting the columns that have objects in them, and counting the different categories in each column\n",
    "text_cols = df_no_mv.select_dtypes(include=['object']).columns\n",
    "#Printing the number of categories for each column\n",
    "for col in text_cols:\n",
    "    print(col+\":\", len(train[col].unique()))"
   ]
  },
  {
   "cell_type": "code",
   "execution_count": 6,
   "id": "dc391985",
   "metadata": {},
   "outputs": [
    {
     "name": "stdout",
     "output_type": "stream",
     "text": [
      "MS Zoning: 6\n",
      "Street: 2\n",
      "Lot Shape: 4\n",
      "Land Contour: 4\n",
      "Utilities: 3\n",
      "Lot Config: 5\n",
      "Land Slope: 3\n",
      "Neighborhood: 26\n",
      "Condition 1: 9\n",
      "Condition 2: 6\n",
      "Bldg Type: 5\n",
      "House Style: 8\n",
      "Roof Style: 6\n",
      "Roof Matl: 5\n",
      "Exterior 1st: 14\n",
      "Exterior 2nd: 16\n",
      "Exter Qual: 4\n",
      "Exter Cond: 5\n",
      "Foundation: 6\n",
      "Heating: 6\n",
      "Heating QC: 4\n",
      "Central Air: 2\n",
      "Electrical: 4\n",
      "Kitchen Qual: 5\n",
      "Functional: 7\n",
      "Paved Drive: 3\n",
      "Sale Type: 9\n",
      "Sale Condition: 5\n"
     ]
    }
   ],
   "source": [
    "#Selecting the columns that are categorical\n",
    "text_cols = df_no_mv.select_dtypes(include=['object']).columns\n",
    "#Converting the values into categorical\n",
    "for col in text_cols:\n",
    "    train[col] = train[col].astype('category')\n",
    "#Obtaining the same result as before, after the change into categorical    \n",
    "for col in text_cols:\n",
    "    print(col+\":\", len(train[col].unique()))"
   ]
  },
  {
   "cell_type": "code",
   "execution_count": 7,
   "id": "e31bcaf8",
   "metadata": {},
   "outputs": [
    {
     "name": "stdout",
     "output_type": "stream",
     "text": [
      "Index(['Order', 'PID', 'MS SubClass', 'Lot Frontage', 'Lot Area', 'Alley',\n",
      "       'Overall Qual', 'Overall Cond', 'Year Built', 'Year Remod/Add',\n",
      "       ...\n",
      "       'ConLI', 'ConLw', 'New', 'Oth', 'WD ', 'Abnorml', 'Alloca', 'Family',\n",
      "       'Normal', 'Partial'],\n",
      "      dtype='object', length=236)\n"
     ]
    }
   ],
   "source": [
    "dummy_cols = pd.DataFrame()\n",
    "for col in text_cols:\n",
    "    col_dummies = pd.get_dummies(train[col])\n",
    "    train = pd.concat([train, col_dummies], axis=1)\n",
    "    del train[col]\n",
    "print(train.columns)"
   ]
  },
  {
   "cell_type": "code",
   "execution_count": 8,
   "id": "2fc5dc93",
   "metadata": {},
   "outputs": [],
   "source": [
    "#In this case, 'Year Remod/Add' and 'Year Built' do not represent important information for a linear regression model\n",
    "train['years_until_remod'] = train['Year Remod/Add'] - train['Year Built']"
   ]
  },
  {
   "cell_type": "code",
   "execution_count": 15,
   "id": "0780b261",
   "metadata": {},
   "outputs": [
    {
     "name": "stdout",
     "output_type": "stream",
     "text": [
      "Lot Frontage      249\n",
      "Mas Vnr Type       11\n",
      "Mas Vnr Area       11\n",
      "Bsmt Qual          40\n",
      "Bsmt Cond          40\n",
      "Bsmt Exposure      41\n",
      "BsmtFin Type 1     40\n",
      "BsmtFin SF 1        1\n",
      "BsmtFin Type 2     41\n",
      "BsmtFin SF 2        1\n",
      "Bsmt Unf SF         1\n",
      "Total Bsmt SF       1\n",
      "Bsmt Full Bath      1\n",
      "Bsmt Half Bath      1\n",
      "Garage Type        74\n",
      "Garage Yr Blt      75\n",
      "Garage Finish      75\n",
      "Garage Qual        75\n",
      "Garage Cond        75\n",
      "dtype: int64\n",
      "\n",
      "\n",
      "Lot Frontage      float64\n",
      "Mas Vnr Type       object\n",
      "Mas Vnr Area      float64\n",
      "Bsmt Qual          object\n",
      "Bsmt Cond          object\n",
      "Bsmt Exposure      object\n",
      "BsmtFin Type 1     object\n",
      "BsmtFin SF 1      float64\n",
      "BsmtFin Type 2     object\n",
      "BsmtFin SF 2      float64\n",
      "Bsmt Unf SF       float64\n",
      "Total Bsmt SF     float64\n",
      "Bsmt Full Bath    float64\n",
      "Bsmt Half Bath    float64\n",
      "Garage Type        object\n",
      "Garage Yr Blt     float64\n",
      "Garage Finish      object\n",
      "Garage Qual        object\n",
      "Garage Cond        object\n",
      "dtype: object\n"
     ]
    }
   ],
   "source": [
    "# data = pd.read_csv('AmesHousing.txt', delimiter=\"\\t\")\n",
    "# train = data[0:1460]\n",
    "# test = data[1460:]\n",
    "\n",
    "#We are counting the number of columns that have less than 40% of missing rows \n",
    "train_null_counts = train.isnull().sum()\n",
    "#The mask for selecting columns that have less than 40% of missing rows\n",
    "mask = (train_null_counts>0) & (train_null_counts<584)\n",
    "#Selecting the columns in the dataframe with less than 40% missing rows\n",
    "df_missing_values = train[train_null_counts[mask].index]\n",
    "#the list of missing rows for each column\n",
    "print(df_missing_values.isnull().sum())\n",
    "print(\"\\n\")\n",
    "#the dtypes of each column\n",
    "print(df_missing_values.dtypes)"
   ]
  },
  {
   "cell_type": "code",
   "execution_count": 17,
   "id": "a9ef2064",
   "metadata": {},
   "outputs": [
    {
     "name": "stdout",
     "output_type": "stream",
     "text": [
      "      Lot Frontage  Mas Vnr Area  BsmtFin SF 1  BsmtFin SF 2  Bsmt Unf SF  \\\n",
      "0            141.0         112.0         639.0           0.0        441.0   \n",
      "1             80.0           0.0         468.0         144.0        270.0   \n",
      "2             81.0         108.0         923.0           0.0        406.0   \n",
      "3             93.0           0.0        1065.0           0.0       1045.0   \n",
      "4             74.0           0.0         791.0           0.0        137.0   \n",
      "...            ...           ...           ...           ...          ...   \n",
      "1455           NaN           0.0         735.0           0.0        257.0   \n",
      "1456           NaN         227.0           0.0           0.0       1257.0   \n",
      "1457          73.0         320.0         668.0           0.0        336.0   \n",
      "1458          75.0         202.0         252.0           0.0        901.0   \n",
      "1459           NaN         396.0           0.0           0.0       1055.0   \n",
      "\n",
      "      Total Bsmt SF  Bsmt Full Bath  Bsmt Half Bath  Garage Yr Blt  \n",
      "0            1080.0             1.0             0.0         1960.0  \n",
      "1             882.0             0.0             0.0         1961.0  \n",
      "2            1329.0             0.0             0.0         1958.0  \n",
      "3            2110.0             1.0             0.0         1968.0  \n",
      "4             928.0             0.0             0.0         1997.0  \n",
      "...             ...             ...             ...            ...  \n",
      "1455          992.0             1.0             0.0         2000.0  \n",
      "1456         1257.0             0.0             0.0         2001.0  \n",
      "1457         1004.0             0.0             0.0         1999.0  \n",
      "1458         1153.0             0.0             0.0         1998.0  \n",
      "1459         1055.0             0.0             0.0         2001.0  \n",
      "\n",
      "[1460 rows x 9 columns]\n"
     ]
    }
   ],
   "source": [
    "#This is a dataframe with the columns with a few missing values\n",
    "float_cols = df_missing_values.select_dtypes(include=['float'])\n",
    "print(float_cols)"
   ]
  },
  {
   "cell_type": "code",
   "execution_count": 16,
   "id": "350f56c3",
   "metadata": {},
   "outputs": [
    {
     "name": "stdout",
     "output_type": "stream",
     "text": [
      "      Lot Frontage  Mas Vnr Area  BsmtFin SF 1  BsmtFin SF 2  Bsmt Unf SF  \\\n",
      "0       141.000000         112.0         639.0           0.0        441.0   \n",
      "1        80.000000           0.0         468.0         144.0        270.0   \n",
      "2        81.000000         108.0         923.0           0.0        406.0   \n",
      "3        93.000000           0.0        1065.0           0.0       1045.0   \n",
      "4        74.000000           0.0         791.0           0.0        137.0   \n",
      "...            ...           ...           ...           ...          ...   \n",
      "1455     68.928984           0.0         735.0           0.0        257.0   \n",
      "1456     68.928984         227.0           0.0           0.0       1257.0   \n",
      "1457     73.000000         320.0         668.0           0.0        336.0   \n",
      "1458     75.000000         202.0         252.0           0.0        901.0   \n",
      "1459     68.928984         396.0           0.0           0.0       1055.0   \n",
      "\n",
      "      Total Bsmt SF  Bsmt Full Bath  Bsmt Half Bath  Garage Yr Blt  \n",
      "0            1080.0             1.0             0.0         1960.0  \n",
      "1             882.0             0.0             0.0         1961.0  \n",
      "2            1329.0             0.0             0.0         1958.0  \n",
      "3            2110.0             1.0             0.0         1968.0  \n",
      "4             928.0             0.0             0.0         1997.0  \n",
      "...             ...             ...             ...            ...  \n",
      "1455          992.0             1.0             0.0         2000.0  \n",
      "1456         1257.0             0.0             0.0         2001.0  \n",
      "1457         1004.0             0.0             0.0         1999.0  \n",
      "1458         1153.0             0.0             0.0         1998.0  \n",
      "1459         1055.0             0.0             0.0         2001.0  \n",
      "\n",
      "[1460 rows x 9 columns]\n"
     ]
    }
   ],
   "source": [
    "#Filling missing values with the mean of each column\n",
    "float_cols = float_cols.fillna(float_cols.mean())\n",
    "print(float_cols)"
   ]
  },
  {
   "cell_type": "code",
   "execution_count": null,
   "id": "cb32611b",
   "metadata": {},
   "outputs": [],
   "source": []
  }
 ],
 "metadata": {
  "kernelspec": {
   "display_name": "Python 3",
   "language": "python",
   "name": "python3"
  },
  "language_info": {
   "codemirror_mode": {
    "name": "ipython",
    "version": 3
   },
   "file_extension": ".py",
   "mimetype": "text/x-python",
   "name": "python",
   "nbconvert_exporter": "python",
   "pygments_lexer": "ipython3",
   "version": "3.8.8"
  }
 },
 "nbformat": 4,
 "nbformat_minor": 5
}
