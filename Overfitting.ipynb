{
 "cells": [
  {
   "cell_type": "code",
   "execution_count": 1,
   "id": "e6e65414",
   "metadata": {},
   "outputs": [],
   "source": [
    "from sklearn.linear_model import LinearRegression\n",
    "from sklearn.metrics import mean_squared_error\n",
    "import numpy as np\n",
    "import matplotlib.pyplot as plt\n",
    "import pandas as pd\n",
    "from sklearn.model_selection import KFold"
   ]
  },
  {
   "cell_type": "code",
   "execution_count": 2,
   "id": "b440af24",
   "metadata": {},
   "outputs": [
    {
     "name": "stdout",
     "output_type": "stream",
     "text": [
      "[130. 165. 150. 140. 198. 220. 215. 225. 190. 170. 160.  95.  97.  85.\n",
      "  88.  46.  87.  90. 113. 200. 210. 193. 100. 105. 175. 153. 180. 110.\n",
      "  72.  86.  70.  76.  65.  69.  60.  80.  54. 208. 155. 112.  92. 145.\n",
      " 137. 158. 167.  94. 107. 230.  49.  75.  91. 122.  67.  83.  78.  52.\n",
      "  61.  93. 148. 129.  96.  71.  98. 115.  53.  81.  79. 120. 152. 102.\n",
      " 108.  68.  58. 149.  89.  63.  48.  66. 139. 103. 125. 133. 138. 135.\n",
      " 142.  77.  62. 132.  84.  64.  74. 116.  82.]\n"
     ]
    }
   ],
   "source": [
    "columns = [\"mpg\", \"cylinders\", \"displacement\", \"horsepower\", \"weight\", \"acceleration\", \"model year\", \"origin\", \"car name\"]\n",
    "cars = pd.read_table(\"auto-mpg.data\", delim_whitespace=True, names=columns)\n",
    "# print(cars)\n",
    "filtered_cars = cars[cars['horsepower'] != '?'].copy()\n",
    "# print(cars['horsepower'].unique())\n",
    "filtered_cars['horsepower'] = filtered_cars['horsepower'].astype('float')\n",
    "print(filtered_cars['horsepower'].unique())"
   ]
  },
  {
   "cell_type": "code",
   "execution_count": 3,
   "id": "b255e04b",
   "metadata": {},
   "outputs": [
    {
     "name": "stdout",
     "output_type": "stream",
     "text": [
      "Using the cylinders column, the mse is: 24.02017956815553\n",
      "Using the cylinders column, the variance is: 36.74255887416017\n",
      "Using the weight column, the mse is: 18.6766165974193\n",
      "Using the weight column, the variance is: 42.08612184489639\n"
     ]
    }
   ],
   "source": [
    "def train_and_test(cols):\n",
    "    # Split the dataframe into features & target.\n",
    "    features = filtered_cars[cols]\n",
    "    target = filtered_cars[\"mpg\"]\n",
    "    # Fit model.\n",
    "    lr = LinearRegression()\n",
    "    lr.fit(features, target)\n",
    "    # Make predictions on training set.\n",
    "    predictions = lr.predict(features)\n",
    "    # Compute MSE and Variance.\n",
    "    #Calculate the mean_squared_error using the predicted values for the mpg\n",
    "    mse = mean_squared_error(filtered_cars[\"mpg\"], predictions)\n",
    "    #Calculate the variance using the predicted values for the mpg\n",
    "    variance = np.var(predictions)\n",
    "    return(mse, variance)\n",
    "    \n",
    "cyl_mse, cyl_var = train_and_test([\"cylinders\"])\n",
    "weight_mse, weight_var = train_and_test([\"weight\"])\n",
    "print(\"Using the cylinders column, the mse is: {}\".format(cyl_mse))\n",
    "print(\"Using the cylinders column, the variance is: {}\".format(cyl_var))\n",
    "print(\"Using the weight column, the mse is: {}\".format(weight_mse))\n",
    "print(\"Using the weight column, the variance is: {}\".format(weight_var))"
   ]
  },
  {
   "cell_type": "code",
   "execution_count": 4,
   "id": "e1f51c0f",
   "metadata": {},
   "outputs": [
    {
     "name": "stdout",
     "output_type": "stream",
     "text": [
      "['cylinders']\n",
      "['cylinders', 'displacement']\n",
      "['cylinders', 'displacement', 'horsepower']\n",
      "['cylinders', 'displacement', 'horsepower', 'weight']\n",
      "['cylinders', 'displacement', 'horsepower', 'weight', 'acceleration']\n",
      "['cylinders', 'displacement', 'horsepower', 'weight', 'acceleration', 'model year']\n",
      "['cylinders', 'displacement', 'horsepower', 'weight', 'acceleration', 'model year', 'origin']\n",
      "dict_keys([1, 2, 3, 4, 5, 6, 7])\n",
      "dict_values([(24.02017956815553, 36.74255887416017), (21.282057055586364, 39.48068138672933), (20.25295483971423, 40.50978360260148), (17.76386057184385, 42.99887787047179), (17.761396105406217, 43.00134233690938), (11.59017098141523, 49.172567460900495), (10.847480945000449, 49.91525749731518)])\n",
      "{1: (24.02017956815553, 36.74255887416017), 2: (21.282057055586364, 39.48068138672933), 3: (20.25295483971423, 40.50978360260148), 4: (17.76386057184385, 42.99887787047179), 5: (17.761396105406217, 43.00134233690938), 6: (11.59017098141523, 49.172567460900495), 7: (10.847480945000449, 49.91525749731518)}\n"
     ]
    }
   ],
   "source": [
    "# Our implementation for train_and_test, takes in a list of strings.\n",
    "def train_and_test(cols):\n",
    "    # Split into features & target.\n",
    "    features = filtered_cars[cols]\n",
    "    target = filtered_cars[\"mpg\"]\n",
    "    # Fit model.\n",
    "    lr = LinearRegression()\n",
    "    lr.fit(features, target)\n",
    "    # Make predictions on training set.\n",
    "    predictions = lr.predict(features)\n",
    "    # Compute MSE and Variance.\n",
    "    mse = mean_squared_error(filtered_cars[\"mpg\"], predictions)\n",
    "    variance = np.var(predictions)\n",
    "    return(mse, variance)\n",
    "\n",
    "columns = [\"cylinders\", \"displacement\", \"horsepower\", \"weight\", \"acceleration\",\"model year\", \"origin\"]\n",
    "\n",
    "calculations = {}\n",
    "\n",
    "for i in range(1,len(columns)+1):\n",
    "    print(columns[:i])\n",
    "    mse, var = train_and_test(columns[:i])\n",
    "    calculations[i] = (mse,var)\n",
    "print(calculations.keys())\n",
    "print(calculations.values())\n",
    "print(calculations)"
   ]
  },
  {
   "cell_type": "code",
   "execution_count": 6,
   "id": "d073b9b8",
   "metadata": {},
   "outputs": [
    {
     "data": {
      "image/png": "[encoded data removed]",
      "text/plain": [
       "<Figure size 432x288 with 1 Axes>"
      ]
     },
     "metadata": {
      "needs_background": "light"
     },
     "output_type": "display_data"
    }
   ],
   "source": [
    "import pandas as pd\n",
    "columns = [\"mpg\", \"cylinders\", \"displacement\", \"horsepower\", \"weight\", \"acceleration\", \"model year\", \"origin\", \"car name\"]\n",
    "cars = pd.read_table(\"auto-mpg.data\", delim_whitespace=True, names=columns)\n",
    "filtered_cars = cars[cars['horsepower'] != '?'].copy()\n",
    "filtered_cars['horsepower'] = filtered_cars['horsepower'].astype('float')\n",
    "\n",
    "def train_and_cross_val(cols):\n",
    "    features = filtered_cars[cols]\n",
    "    target = filtered_cars[\"mpg\"]\n",
    "    \n",
    "    variance_values = []\n",
    "    mse_values = []\n",
    "    \n",
    "    # KFold instance.\n",
    "    kf = KFold(n_splits=10, shuffle=True, random_state=3)\n",
    "    \n",
    "    # Iterate through over each fold.\n",
    "    for train_index, test_index in kf.split(features):\n",
    "        # Training and test sets.\n",
    "        X_train, X_test = features.iloc[train_index], features.iloc[test_index]\n",
    "        y_train, y_test = target.iloc[train_index], target.iloc[test_index]\n",
    "        \n",
    "        # Fit the model and make predictions.\n",
    "        lr = LinearRegression()\n",
    "        lr.fit(X_train, y_train)\n",
    "        predictions = lr.predict(X_test)\n",
    "        \n",
    "        # Calculate mse and variance values for this fold.\n",
    "        mse = mean_squared_error(y_test, predictions)\n",
    "        var = np.var(predictions)\n",
    "\n",
    "        # Append to arrays to do calculate overall average mse and variance values.\n",
    "        variance_values.append(var)\n",
    "        mse_values.append(mse)\n",
    "   \n",
    "    # Compute average mse and variance values.\n",
    "    avg_mse = np.mean(mse_values)\n",
    "    avg_var = np.mean(variance_values)\n",
    "    return(avg_mse, avg_var)\n",
    "# We've hidden the `train_and_cross_val` function to save space but you can still call the function!\n",
    "import matplotlib.pyplot as plt\n",
    "   \n",
    "    \n",
    "\n",
    "\n",
    "columns = [\"cylinders\", \"displacement\", \"horsepower\", \"weight\", \"acceleration\",\"model year\", \"origin\"]\n",
    "\n",
    "mse = []\n",
    "var = []\n",
    "\n",
    "for i in range(2,len(columns)+1):\n",
    "    msef, varf = train_and_cross_val(columns[:i])\n",
    "    mse.append(msef)\n",
    "    var.append(varf)\n",
    "\n",
    "two_mse, two_var = train_and_cross_val([\"cylinders\", \"displacement\"])\n",
    "three_mse, three_var = train_and_cross_val([\"cylinders\", \"displacement\", \"horsepower\"])\n",
    "four_mse, four_var = train_and_cross_val([\"cylinders\", \"displacement\", \"horsepower\", \"weight\"])\n",
    "five_mse, five_var = train_and_cross_val([\"cylinders\", \"displacement\", \"horsepower\", \"weight\", \"acceleration\"])\n",
    "six_mse, six_var = train_and_cross_val([\"cylinders\", \"displacement\", \"horsepower\", \"weight\", \"acceleration\", \"model year\"])\n",
    "seven_mse, seven_var = train_and_cross_val([\"cylinders\", \"displacement\", \"horsepower\", \"weight\", \"acceleration\",\"model year\", \"origin\"])\n",
    "\n",
    "def draw_overfitting(mse,var,x):\n",
    "    #Linear regression \n",
    "    y = mse\n",
    "    plt.scatter(x,y,c=\"red\")    \n",
    "    #Scatter plot\n",
    "    y = var\n",
    "    plt.scatter(x,y,c=\"blue\")\n",
    "    plt.title(\"Overfitting\")\n",
    "    plt.show()\n",
    "    \n",
    "#We see the line of best fit on the scatter plot\n",
    "draw_overfitting(mse,var,range(2,len(columns)+1))"
   ]
  },
  {
   "cell_type": "code",
   "execution_count": null,
   "id": "8fc40d49",
   "metadata": {},
   "outputs": [],
   "source": []
  }
 ],
 "metadata": {
  "kernelspec": {
   "display_name": "Python 3",
   "language": "python",
   "name": "python3"
  },
  "language_info": {
   "codemirror_mode": {
    "name": "ipython",
    "version": 3
   },
   "file_extension": ".py",
   "mimetype": "text/x-python",
   "name": "python",
   "nbconvert_exporter": "python",
   "pygments_lexer": "ipython3",
   "version": "3.8.8"
  }
 },
 "nbformat": 4,
 "nbformat_minor": 5
}
