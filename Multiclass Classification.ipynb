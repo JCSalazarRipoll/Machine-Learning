{
 "cells": [
  {
   "cell_type": "code",
   "execution_count": 1,
   "id": "893dc248",
   "metadata": {},
   "outputs": [],
   "source": [
    "import pandas as pd\n",
    "import matplotlib.pyplot as plt\n",
    "import numpy as np\n",
    "from sklearn.linear_model import LogisticRegression"
   ]
  },
  {
   "cell_type": "code",
   "execution_count": 2,
   "id": "3a6b21db",
   "metadata": {},
   "outputs": [
    {
     "name": "stdout",
     "output_type": "stream",
     "text": [
      "[1 3 2]\n"
     ]
    }
   ],
   "source": [
    "cars = pd.read_csv(\"auto.csv\")\n",
    "\n",
    "unique_regions = cars['origin'].unique()\n",
    "\n",
    "print(unique_regions)\n",
    "\n",
    "#[1 2 3]"
   ]
  },
  {
   "cell_type": "code",
   "execution_count": 3,
   "id": "63864b79",
   "metadata": {},
   "outputs": [
    {
     "name": "stdout",
     "output_type": "stream",
     "text": [
      "Index(['mpg', 'displacement', 'horsepower', 'weight', 'acceleration', 'origin',\n",
      "       'cyl_3', 'cyl_4', 'cyl_5', 'cyl_6', 'cyl_8', 'year_70', 'year_71',\n",
      "       'year_72', 'year_73', 'year_74', 'year_75', 'year_76', 'year_77',\n",
      "       'year_78', 'year_79', 'year_80', 'year_81', 'year_82'],\n",
      "      dtype='object')\n"
     ]
    }
   ],
   "source": [
    "#The columns origin, Cylinders and Year, are all categorical.\n",
    "\n",
    "#We want to add columns that will act like dummies, in this case, one per each unique value in cylinders\n",
    "dummy_cylinders = pd.get_dummies(cars[\"cylinders\"], prefix=\"cyl\")\n",
    "#Each new column will have the prefix cyl in them, indicating that they represent cylinders\n",
    "cars = pd.concat([cars, dummy_cylinders], axis=1)\n",
    "\n",
    "#We want to add columns that will act like dummies, in this case, one per each unique value in year\n",
    "dummy_years = pd.get_dummies(cars[\"year\"], prefix=\"year\")\n",
    "#each new column will have the prefix year in them, indicating that they represent year\n",
    "cars = pd.concat([cars, dummy_years], axis=1)\n",
    "\n",
    "#Eliminate the columns where the values came from\n",
    "drop_columns = [\"cylinders\",\"year\"]\n",
    "cars = cars.drop(drop_columns,axis=1)\n",
    "#verify the changes\n",
    "print(cars.columns)"
   ]
  },
  {
   "cell_type": "code",
   "execution_count": 4,
   "id": "21a2b52a",
   "metadata": {},
   "outputs": [],
   "source": [
    "#Shuffle the rows, in order to get an unbiasaed training\n",
    "shuffled_rows = np.random.permutation(cars.index)\n",
    "shuffled_cars = cars.iloc[shuffled_rows]\n",
    "\n",
    "#It will select 70% of the rows for the training\n",
    "tRows = int(len(shuffled_cars)*0.7)\n",
    "\n",
    "#It is selecting a certain number of rows for the training\n",
    "train = shuffled_cars.iloc[:tRows].copy()\n",
    "#The rest of the rows are used for the testing\n",
    "test = shuffled_cars.iloc[tRows:].copy()"
   ]
  },
  {
   "cell_type": "code",
   "execution_count": 5,
   "id": "87cfaa1a",
   "metadata": {},
   "outputs": [],
   "source": [
    "#We want to train n models, when n in the unique values in the given column\n",
    "#In this case, the column is origin and the size of unique values is 3\n",
    "unique_origins = cars[\"origin\"].unique()\n",
    "#The unique origins will have they values in a descending order\n",
    "unique_origins.sort()\n",
    "#Dictionary in which each unique value will contain their corresponding model\n",
    "models = {}\n",
    "#The features is the list of columns recently created from the cylinders or the year\n",
    "features = [c for c in train.columns if c.startswith(\"cyl\") or c.startswith(\"year\")]\n",
    "#The x values would be the columns from the features. It can be calculated outside the cycle\n",
    "X_train = train[features]\n",
    "#Cycle used for the training\n",
    "for origin in unique_origins:\n",
    "    #a model is created for the logistric regression\n",
    "    model = LogisticRegression()\n",
    "    #Comparing agains the rows that contain the origin value\n",
    "    y_train = train[\"origin\"] == origin\n",
    "    #Each model is trained and stored in the dictionary\n",
    "    model.fit(X_train, y_train)\n",
    "    models[origin] = model"
   ]
  },
  {
   "cell_type": "code",
   "execution_count": 8,
   "id": "29e34832",
   "metadata": {},
   "outputs": [
    {
     "name": "stdout",
     "output_type": "stream",
     "text": [
      "Empty DataFrame\n",
      "Columns: [1, 2, 3]\n",
      "Index: []\n",
      "            1         2         3\n",
      "0    0.151510  0.339128  0.522704\n",
      "1    0.273058  0.382966  0.332317\n",
      "2    0.239566  0.447108  0.315868\n",
      "3    0.965861  0.024765  0.023684\n",
      "4    0.358199  0.277067  0.341899\n",
      "..        ...       ...       ...\n",
      "113  0.963996  0.030184  0.018097\n",
      "114  0.912769  0.058121  0.049025\n",
      "115  0.957127  0.025087  0.029470\n",
      "116  0.949300  0.032440  0.027396\n",
      "117  0.238843  0.324585  0.237084\n",
      "\n",
      "[118 rows x 3 columns]\n"
     ]
    }
   ],
   "source": [
    "testing_probs = pd.DataFrame(columns=unique_origins)\n",
    "\n",
    "print(testing_probs)\n",
    "\n",
    "# Select testing features.\n",
    "X_test = test[features] \n",
    "\n",
    "for origin in unique_origins:\n",
    "    # Compute probability of observation being in the origin.\n",
    "    testing_probs[origin] = models[origin].predict_proba(X_test)[:,1]\n",
    "    \n",
    "print(testing_probs)"
   ]
  },
  {
   "cell_type": "code",
   "execution_count": 9,
   "id": "eff82d1f",
   "metadata": {},
   "outputs": [
    {
     "name": "stdout",
     "output_type": "stream",
     "text": [
      "0      3\n",
      "1      2\n",
      "2      2\n",
      "3      1\n",
      "4      1\n",
      "      ..\n",
      "113    1\n",
      "114    1\n",
      "115    1\n",
      "116    1\n",
      "117    2\n",
      "Length: 118, dtype: int64\n"
     ]
    }
   ],
   "source": [
    "predicted_origins = testing_probs.idxmax(axis=1)\n",
    "print(predicted_origins)"
   ]
  },
  {
   "cell_type": "code",
   "execution_count": null,
   "id": "6732139d",
   "metadata": {},
   "outputs": [],
   "source": []
  }
 ],
 "metadata": {
  "kernelspec": {
   "display_name": "Python 3",
   "language": "python",
   "name": "python3"
  },
  "language_info": {
   "codemirror_mode": {
    "name": "ipython",
    "version": 3
   },
   "file_extension": ".py",
   "mimetype": "text/x-python",
   "name": "python",
   "nbconvert_exporter": "python",
   "pygments_lexer": "ipython3",
   "version": "3.8.8"
  }
 },
 "nbformat": 4,
 "nbformat_minor": 5
}
