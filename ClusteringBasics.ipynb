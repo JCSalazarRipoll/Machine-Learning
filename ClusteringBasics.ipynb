{
 "cells": [
  {
   "cell_type": "code",
   "execution_count": 1,
   "id": "e6e65414",
   "metadata": {},
   "outputs": [],
   "source": [
    "# from sklearn.model_selection import KFold\n",
    "# from sklearn.linear_model import LinearRegression\n",
    "# from sklearn.metrics import mean_squared_error\n",
    "# import numpy as np\n",
    "# import matplotlib.pyplot as plt\n",
    "import pandas as pd\n",
    "from sklearn.metrics.pairwise import euclidean_distances\n",
    "from sklearn.cluster import KMeans\n",
    "import matplotlib.pyplot as plt"
   ]
  },
  {
   "cell_type": "code",
   "execution_count": 2,
   "id": "62071408",
   "metadata": {},
   "outputs": [
    {
     "name": "stdout",
     "output_type": "stream",
     "text": [
      "   00001  00004  00005  00006  00007  00008  00009  00010  00020  00026  \\\n",
      "0    0.0    1.0    1.0    1.0    1.0    0.0    0.0    1.0    1.0    1.0   \n",
      "1    0.0    1.0    1.0    1.0    1.0    0.0    0.0    1.0    0.0    1.0   \n",
      "2    1.0    0.0    0.0    1.0    0.0    1.0    0.0    1.0    0.0    0.0   \n",
      "3    0.0    1.0    1.0    1.0    1.0    0.0    1.0    1.0    1.0    1.0   \n",
      "4    0.0    0.0    0.0    1.0    0.0    1.0    0.0    1.0    0.0    0.0   \n",
      "\n",
      "   00032  00038  00039  00044  00047  \n",
      "0    0.0    0.0    0.0    0.0    0.0  \n",
      "1    0.0    1.0    0.0    1.0    0.0  \n",
      "2    1.0    1.0    0.0    1.0    1.0  \n",
      "3    0.0    0.0    1.0    0.0    0.0  \n",
      "4    0.0    1.0    0.0    1.0    0.0  \n"
     ]
    }
   ],
   "source": [
    "votes = pd.read_csv(\"114_congress.csv\")\n",
    "votesNum = votes.copy()\n",
    "columns = [\"name\",\"party\",\"state\"]\n",
    "votesNum = votesNum.drop(columns,axis = 1)\n",
    "print(votesNum.head())"
   ]
  },
  {
   "cell_type": "code",
   "execution_count": 3,
   "id": "711d3a4f",
   "metadata": {},
   "outputs": [
    {
     "name": "stdout",
     "output_type": "stream",
     "text": [
      "R    54\n",
      "D    44\n",
      "I     2\n",
      "Name: party, dtype: int64\n",
      "00001    0.325\n",
      "00004    0.575\n",
      "00005    0.535\n",
      "00006    0.945\n",
      "00007    0.545\n",
      "00008    0.415\n",
      "00009    0.545\n",
      "00010    0.985\n",
      "00020    0.525\n",
      "00026    0.545\n",
      "00032    0.410\n",
      "00038    0.480\n",
      "00039    0.510\n",
      "00044    0.460\n",
      "00047    0.370\n",
      "dtype: float64\n"
     ]
    }
   ],
   "source": [
    "print(votes['party'].value_counts())\n",
    "print(votes.mean())"
   ]
  },
  {
   "cell_type": "code",
   "execution_count": 4,
   "id": "7b800ff3",
   "metadata": {},
   "outputs": [
    {
     "name": "stdout",
     "output_type": "stream",
     "text": [
      "[[1.73205081]]\n",
      "[[3.31662479]]\n"
     ]
    }
   ],
   "source": [
    "print(euclidean_distances(votesNum.iloc[0].values.reshape(1, -1), votesNum.iloc[1].values.reshape(1, -1)))\n",
    "\n",
    "distance = euclidean_distances(votesNum.iloc[0].values.reshape(1, -1), votesNum.iloc[2].values.reshape(1, -1))\n",
    "\n",
    "print(distance)"
   ]
  },
  {
   "cell_type": "code",
   "execution_count": 5,
   "id": "dcf48a7d",
   "metadata": {},
   "outputs": [],
   "source": [
    "kmeans_model = KMeans(n_clusters=2, random_state=1)\n",
    "senator_distances = kmeans_model.fit_transform(votesNum.iloc[:])"
   ]
  },
  {
   "cell_type": "code",
   "execution_count": 6,
   "id": "66d608bb",
   "metadata": {},
   "outputs": [
    {
     "name": "stdout",
     "output_type": "stream",
     "text": [
      "party   D  I   R\n",
      "row_0           \n",
      "0      41  2   0\n",
      "1       3  0  54\n"
     ]
    }
   ],
   "source": [
    "labels = kmeans_model.labels_\n",
    "\n",
    "print(pd.crosstab(labels, votes[\"party\"]))"
   ]
  },
  {
   "cell_type": "code",
   "execution_count": 7,
   "id": "78afb349",
   "metadata": {},
   "outputs": [
    {
     "name": "stdout",
     "output_type": "stream",
     "text": [
      "       name party state  00001  00004  00005  00006  00007  00008  00009  \\\n",
      "50     King     I    ME    0.0    0.0    0.0    1.0    0.0    1.0    0.0   \n",
      "79  Sanders     I    VT    1.0    0.0    0.0    1.0    0.0    1.0    0.0   \n",
      "\n",
      "    00010  00020  00026  00032  00038  00039  00044  00047  \n",
      "50    1.0    0.0    0.0    1.0    1.0    0.0    1.0    1.0  \n",
      "79    1.0    0.0    0.0    1.0    1.0    0.0    1.0    1.0  \n",
      "        name party state  00001  00004  00005  00006  00007  00008  00009  \\\n",
      "42  Heitkamp     D    ND    0.0    1.0    0.0    1.0    0.0    0.0    1.0   \n",
      "56   Manchin     D    WV    0.0    1.0    0.0    1.0    0.0    0.0    1.0   \n",
      "74      Reid     D    NV    0.5    0.5    0.5    0.5    0.5    0.5    0.5   \n",
      "\n",
      "    00010  00020  00026  00032  00038  00039  00044  00047  \n",
      "42    1.0    0.0    0.0    0.0    1.0    0.0    0.0    0.0  \n",
      "56    1.0    1.0    0.0    0.0    1.0    1.0    0.0    0.0  \n",
      "74    0.5    0.5    0.5    0.5    0.5    0.5    0.5    0.5  \n"
     ]
    }
   ],
   "source": [
    "cluster =  votes[(labels == 0) & (votes[\"party\"] == \"I\")]\n",
    "print(cluster)\n",
    "\n",
    "democratic_outliers = votes[(labels == 1) & (votes[\"party\"] == \"D\")]\n",
    "\n",
    "print(democratic_outliers)"
   ]
  },
  {
   "cell_type": "code",
   "execution_count": 8,
   "id": "b6552fac",
   "metadata": {},
   "outputs": [
    {
     "data": {
      "image/png": "[encoded data removed]",
      "text/plain": [
       "<Figure size 432x288 with 1 Axes>"
      ]
     },
     "metadata": {
      "needs_background": "light"
     },
     "output_type": "display_data"
    }
   ],
   "source": [
    "plt.scatter(x=senator_distances[:,0],y = senator_distances[:,1],c=labels,linewidths=0)\n",
    "\n",
    "plt.show()"
   ]
  },
  {
   "cell_type": "code",
   "execution_count": 9,
   "id": "080dcd33",
   "metadata": {},
   "outputs": [
    {
     "name": "stdout",
     "output_type": "stream",
     "text": [
      "         name party state  00001  00004  00005  00006  00007  00008  00009  \\\n",
      "98     Wicker     R    MS    0.0    1.0    1.0    1.0    1.0    0.0    1.0   \n",
      "53   Lankford     R    OK    0.0    1.0    1.0    0.0    1.0    0.0    1.0   \n",
      "69       Paul     R    KY    0.0    1.0    1.0    0.0    1.0    0.0    1.0   \n",
      "80      Sasse     R    NE    0.0    1.0    1.0    0.0    1.0    0.0    1.0   \n",
      "26       Cruz     R    TX    0.0    1.0    1.0    0.0    1.0    0.0    1.0   \n",
      "48    Johnson     R    WI    0.0    1.0    1.0    1.0    1.0    0.0    1.0   \n",
      "47    Isakson     R    GA    0.0    1.0    1.0    1.0    1.0    0.0    1.0   \n",
      "65  Murkowski     R    AK    0.0    1.0    1.0    1.0    1.0    0.0    1.0   \n",
      "64      Moran     R    KS    0.0    1.0    1.0    1.0    1.0    0.0    1.0   \n",
      "30       Enzi     R    WY    0.0    1.0    1.0    1.0    1.0    0.0    1.0   \n",
      "\n",
      "    00010  00020  00026  00032  00038  00039  00044  00047  extremism  \n",
      "98    0.0    1.0    1.0    0.0    0.0    1.0    0.0    0.0  46.250476  \n",
      "53    1.0    1.0    1.0    0.0    0.0    1.0    0.0    0.0  46.046873  \n",
      "69    1.0    1.0    1.0    0.0    0.0    1.0    0.0    0.0  46.046873  \n",
      "80    1.0    1.0    1.0    0.0    0.0    1.0    0.0    0.0  46.046873  \n",
      "26    1.0    1.0    1.0    0.0    0.0    1.0    0.0    0.0  46.046873  \n",
      "48    1.0    1.0    1.0    0.0    0.0    1.0    0.0    0.0  40.017540  \n",
      "47    1.0    1.0    1.0    0.0    0.0    1.0    0.0    0.0  40.017540  \n",
      "65    1.0    1.0    1.0    0.0    0.0    1.0    0.0    0.0  40.017540  \n",
      "64    1.0    1.0    1.0    0.0    0.0    1.0    0.0    0.0  40.017540  \n",
      "30    1.0    1.0    1.0    0.0    0.0    1.0    0.0    0.0  40.017540  \n"
     ]
    }
   ],
   "source": [
    "extremism = (senator_distances ** 3).sum(axis=1)\n",
    "votes[\"extremism\"] = extremism\n",
    "votes.sort_values(\"extremism\", inplace=True, ascending=False)\n",
    "print(votes.head(10))"
   ]
  },
  {
   "cell_type": "code",
   "execution_count": null,
   "id": "8a32ff30",
   "metadata": {},
   "outputs": [],
   "source": []
  }
 ],
 "metadata": {
  "kernelspec": {
   "display_name": "Python 3",
   "language": "python",
   "name": "python3"
  },
  "language_info": {
   "codemirror_mode": {
    "name": "ipython",
    "version": 3
   },
   "file_extension": ".py",
   "mimetype": "text/x-python",
   "name": "python",
   "nbconvert_exporter": "python",
   "pygments_lexer": "ipython3",
   "version": "3.8.8"
  }
 },
 "nbformat": 4,
 "nbformat_minor": 5
}
