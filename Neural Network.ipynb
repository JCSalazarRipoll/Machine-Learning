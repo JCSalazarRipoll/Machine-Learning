{
 "cells": [
  {
   "cell_type": "code",
   "execution_count": 1,
   "id": "2b6f0b1b",
   "metadata": {},
   "outputs": [],
   "source": [
    "from sklearn.linear_model import SGDRegressor\n",
    "from sklearn.datasets import make_regression\n",
    "import numpy as np\n",
    "import pandas as pd\n",
    "from sklearn.linear_model import SGDClassifier\n",
    "from sklearn.datasets import make_classification"
   ]
  },
  {
   "cell_type": "code",
   "execution_count": 2,
   "id": "b292305c",
   "metadata": {},
   "outputs": [],
   "source": [
    "data = make_regression(n_samples=100, n_features=3, random_state=1)\n",
    "features = pd.DataFrame(data[0])\n",
    "labels = pd.Series(data[1])\n",
    "\n",
    "\n",
    "features[\"bias\"] = 1\n",
    "\n",
    "def train(features, labels):\n",
    "    lr = SGDRegressor()\n",
    "    lr.fit(features, labels)\n",
    "    weights = lr.coef_\n",
    "    return weights\n",
    "    \n",
    "def feedforward(features, weights):\n",
    "    predictions = np.dot(features, weights.T)\n",
    "    return predictions\n",
    "\n",
    "train_weights = train(features, labels)\n",
    "linear_predictions = feedforward(features, train_weights)"
   ]
  },
  {
   "cell_type": "code",
   "execution_count": 3,
   "id": "de99f035",
   "metadata": {},
   "outputs": [],
   "source": [
    "\n",
    "\n",
    "class_data = make_classification(n_samples=100, n_features=4, random_state=1)\n",
    "class_features = pd.DataFrame(class_data[0])\n",
    "class_labels = pd.Series(class_data[1])\n",
    "\n",
    "# Uncomment this code when you're ready to test your functions.\n",
    "# log_train_weights = log_train(class_features, class_labels)\n",
    "# log_predictions = log_feedforward(class_features, log_train_weights)\n",
    "class_features[\"bias\"] = 1\n",
    "\n",
    "def log_train(class_features, class_labels):\n",
    "    sg = SGDClassifier()\n",
    "    sg.fit(class_features, class_labels)\n",
    "    return sg.coef_\n",
    "\n",
    "def sigmoid(linear_combination):\n",
    "    return 1/(1+np.exp(-linear_combination))\n",
    "\n",
    "def log_feedforward(class_features, log_train_weights):\n",
    "    linear_combination = np.dot(class_features, log_train_weights.T)\n",
    "    log_predictions = sigmoid(linear_combination)\n",
    "    log_predictions[log_predictions >= 0.5] = 1\n",
    "    log_predictions[log_predictions < 0.5] = 0\n",
    "    return log_predictions\n",
    "\n",
    "log_train_weights = log_train(class_features, class_labels)\n",
    "log_predictions = log_feedforward(class_features, log_train_weights)"
   ]
  }
 ],
 "metadata": {
  "kernelspec": {
   "display_name": "Python 3",
   "language": "python",
   "name": "python3"
  },
  "language_info": {
   "codemirror_mode": {
    "name": "ipython",
    "version": 3
   },
   "file_extension": ".py",
   "mimetype": "text/x-python",
   "name": "python",
   "nbconvert_exporter": "python",
   "pygments_lexer": "ipython3",
   "version": "3.8.8"
  }
 },
 "nbformat": 4,
 "nbformat_minor": 5
}
